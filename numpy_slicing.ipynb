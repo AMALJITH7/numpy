{
  "nbformat": 4,
  "nbformat_minor": 0,
  "metadata": {
    "colab": {
      "provenance": [],
      "authorship_tag": "ABX9TyMj8R/582aQTO//FJ11lSkS",
      "include_colab_link": true
    },
    "kernelspec": {
      "name": "python3",
      "display_name": "Python 3"
    },
    "language_info": {
      "name": "python"
    }
  },
  "cells": [
    {
      "cell_type": "markdown",
      "metadata": {
        "id": "view-in-github",
        "colab_type": "text"
      },
      "source": [
        "<a href=\"https://colab.research.google.com/github/AMALJITH7/numpy/blob/main/numpy_slicing.ipynb\" target=\"_parent\"><img src=\"https://colab.research.google.com/assets/colab-badge.svg\" alt=\"Open In Colab\"/></a>"
      ]
    },
    {
      "cell_type": "markdown",
      "source": [
        "How can I slice a 1-dimensional array in NumPy?"
      ],
      "metadata": {
        "id": "KEKE9pOJIQp4"
      }
    },
    {
      "cell_type": "code",
      "source": [
        "import numpy as np\n",
        "a=np.array([1,2,3,4,5,6,7])\n",
        "print(a[1:4])"
      ],
      "metadata": {
        "colab": {
          "base_uri": "https://localhost:8080/"
        },
        "id": "5lZfHvETITGz",
        "outputId": "bad0f083-58fe-4bce-f4a8-28af3d396302"
      },
      "execution_count": null,
      "outputs": [
        {
          "output_type": "stream",
          "name": "stdout",
          "text": [
            "[2 3 4]\n"
          ]
        }
      ]
    },
    {
      "cell_type": "markdown",
      "source": [
        "2.Can I slice a 2-dimensional array in NumPy?"
      ],
      "metadata": {
        "id": "invl6h4RIqbj"
      }
    },
    {
      "cell_type": "code",
      "source": [
        "import numpy as np\n",
        "b=np.array([[1,2,3,4],[5,6,7,8],[7,8,5,3],[2,3,4,5]])\n",
        "print(b[1:3,:3])"
      ],
      "metadata": {
        "colab": {
          "base_uri": "https://localhost:8080/"
        },
        "id": "MYXdMHe9ItGr",
        "outputId": "067f9ba9-eafa-4417-94cd-eaabf909e0fc"
      },
      "execution_count": null,
      "outputs": [
        {
          "output_type": "stream",
          "name": "stdout",
          "text": [
            "[[5 6 7]\n",
            " [7 8 5]]\n"
          ]
        }
      ]
    },
    {
      "cell_type": "markdown",
      "source": [
        "How can I slice an array with a step in NumPy?"
      ],
      "metadata": {
        "id": "Ezqu75i9JVmw"
      }
    },
    {
      "cell_type": "code",
      "source": [
        "import numpy as np\n",
        "u=np.array([3,4,5,5,6,7])\n",
        "print(u[2:4])"
      ],
      "metadata": {
        "id": "cNnr2LDdJWK9",
        "colab": {
          "base_uri": "https://localhost:8080/"
        },
        "outputId": "c439723e-fd01-4316-9294-3054cdd83adf"
      },
      "execution_count": null,
      "outputs": [
        {
          "output_type": "stream",
          "name": "stdout",
          "text": [
            "[5 5]\n"
          ]
        }
      ]
    },
    {
      "cell_type": "markdown",
      "source": [
        "4.Can I use negative indices for slicing in NumPy?"
      ],
      "metadata": {
        "id": "NKQUNZueJpTr"
      }
    },
    {
      "cell_type": "code",
      "source": [
        "print(a[-4:-2])"
      ],
      "metadata": {
        "colab": {
          "base_uri": "https://localhost:8080/"
        },
        "id": "PCopVLfNJuTo",
        "outputId": "06946b7e-ee68-4cad-f63b-74f78ca4dc68"
      },
      "execution_count": null,
      "outputs": [
        {
          "output_type": "stream",
          "name": "stdout",
          "text": [
            "[4 5]\n"
          ]
        }
      ]
    },
    {
      "cell_type": "markdown",
      "source": [
        "What happens if I omit the start or end index in a slice?"
      ],
      "metadata": {
        "id": "t2OisL-5KC5-"
      }
    },
    {
      "cell_type": "code",
      "source": [
        "print(a[:4])\n",
        "print(a[3:])"
      ],
      "metadata": {
        "colab": {
          "base_uri": "https://localhost:8080/"
        },
        "id": "bSmqJn6CKDWh",
        "outputId": "98c7c87a-18ea-4b0b-9530-61fb24bbb195"
      },
      "execution_count": null,
      "outputs": [
        {
          "output_type": "stream",
          "name": "stdout",
          "text": [
            "[1 2 3 4]\n",
            "[4 5 6 7]\n"
          ]
        }
      ]
    },
    {
      "cell_type": "markdown",
      "source": [
        "6.Can I modify the original array using slicing in NumPy?"
      ],
      "metadata": {
        "id": "2fS1bYTAKa1V"
      }
    },
    {
      "cell_type": "code",
      "source": [
        "print(a)\n",
        "a[0]=0\n",
        "print(a)"
      ],
      "metadata": {
        "id": "9-8C6BS3KdH3",
        "colab": {
          "base_uri": "https://localhost:8080/"
        },
        "outputId": "03cc08f1-667c-4763-bc84-a153322566b4"
      },
      "execution_count": null,
      "outputs": [
        {
          "output_type": "stream",
          "name": "stdout",
          "text": [
            "[1 2 3 4 5 6 7]\n",
            "[0 2 3 4 5 6 7]\n"
          ]
        }
      ]
    },
    {
      "cell_type": "markdown",
      "source": [
        "7.How can I slice a multi-dimensional array along a specific axis in NumPy?"
      ],
      "metadata": {
        "id": "fHNDoxl_KscZ"
      }
    },
    {
      "cell_type": "code",
      "source": [
        "import numpy as np\n",
        "c=np.array([[[1,23,4,5],[4,6,7,8]],[[2,3,45,2],[45,6,6,5]],[[2,3,34,4],[5,3,6,6]]])\n",
        "print(c[:2,:2,1:3])"
      ],
      "metadata": {
        "colab": {
          "base_uri": "https://localhost:8080/"
        },
        "id": "Cd_VW6LKKumM",
        "outputId": "3af44f29-d2ce-4fbe-b7b8-c966c8c5e289"
      },
      "execution_count": null,
      "outputs": [
        {
          "output_type": "stream",
          "name": "stdout",
          "text": [
            "[[[23  4]\n",
            "  [ 6  7]]\n",
            "\n",
            " [[ 3 45]\n",
            "  [ 6  6]]]\n"
          ]
        }
      ]
    },
    {
      "cell_type": "markdown",
      "source": [
        "8.Can I use boolean indexing for slicing in NumPy"
      ],
      "metadata": {
        "id": "5bhqT8xPiyqG"
      }
    },
    {
      "cell_type": "code",
      "source": [
        "import numpy as np\n",
        "e=np.array([2,4,5,6])\n",
        "f=np.array([True,False,True,False])\n",
        "print(e[f])\n"
      ],
      "metadata": {
        "colab": {
          "base_uri": "https://localhost:8080/"
        },
        "id": "QZioxn9ui0n3",
        "outputId": "aed86b2e-40ba-4bee-cc6a-22521bd6d3d1"
      },
      "execution_count": null,
      "outputs": [
        {
          "output_type": "stream",
          "name": "stdout",
          "text": [
            "[2 5]\n"
          ]
        }
      ]
    },
    {
      "cell_type": "markdown",
      "source": [
        "9.How can I reverse the elements of an array using slicing in NumPy?"
      ],
      "metadata": {
        "id": "pm3UqOFYjIJ9"
      }
    },
    {
      "cell_type": "code",
      "source": [
        "print(a[::-1])"
      ],
      "metadata": {
        "colab": {
          "base_uri": "https://localhost:8080/"
        },
        "id": "oi3p8pVzjKf3",
        "outputId": "3a594984-e0f0-4d91-ea3b-31bab6b4578c"
      },
      "execution_count": null,
      "outputs": [
        {
          "output_type": "stream",
          "name": "stdout",
          "text": [
            "[7 6 5 4 3 2 0]\n"
          ]
        }
      ]
    },
    {
      "cell_type": "markdown",
      "source": [
        "10. Can I use slicing to extract a sub-array from a higher-dimensional array in NumPy?"
      ],
      "metadata": {
        "id": "Z1L9O5KajtZd"
      }
    },
    {
      "cell_type": "code",
      "source": [
        "import numpy as np\n",
        "s=np.array([[[1,23,4,5],[4,6,7,8]],[[2,3,45,2],[45,6,6,5]],[[2,3,34,4],[5,3,6,6]]])\n",
        "print(s[:2,:1])"
      ],
      "metadata": {
        "id": "Lt8bffdWjt08",
        "colab": {
          "base_uri": "https://localhost:8080/"
        },
        "outputId": "19526f7b-f29a-437a-bbd7-1e3cec20425d"
      },
      "execution_count": null,
      "outputs": [
        {
          "output_type": "stream",
          "name": "stdout",
          "text": [
            "[[[ 1 23  4  5]]\n",
            "\n",
            " [[ 2  3 45  2]]]\n"
          ]
        }
      ]
    },
    {
      "cell_type": "markdown",
      "source": [
        "11. How can I create a copy of a sliced array in NumPy?"
      ],
      "metadata": {
        "id": "52jGXSc-lbvq"
      }
    },
    {
      "cell_type": "code",
      "source": [
        "import numpy as np\n",
        "x=np.array([3,4,5,6])\n",
        "y=x[:3]\n",
        "z=y.copy()\n",
        "print(z)\n",
        "\n"
      ],
      "metadata": {
        "colab": {
          "base_uri": "https://localhost:8080/"
        },
        "id": "6J1x8fCYldGn",
        "outputId": "9e5d9b1c-fa10-4ab7-916d-58c9710eca64"
      },
      "execution_count": null,
      "outputs": [
        {
          "output_type": "stream",
          "name": "stdout",
          "text": [
            "[3 4 5]\n"
          ]
        }
      ]
    },
    {
      "cell_type": "markdown",
      "source": [
        "12. Can I use slicing to assign values to a subset of an array in NumPy?"
      ],
      "metadata": {
        "id": "85y_MK4pxe_J"
      }
    },
    {
      "cell_type": "code",
      "source": [
        "print(e)\n",
        "print(e[2:3])"
      ],
      "metadata": {
        "id": "mVXtzgmOxgN9",
        "colab": {
          "base_uri": "https://localhost:8080/"
        },
        "outputId": "a8f0d484-4a64-4cc9-90e9-69e53edf03b6"
      },
      "execution_count": null,
      "outputs": [
        {
          "output_type": "stream",
          "name": "stdout",
          "text": [
            "[2 4 5 6]\n",
            "[5]\n"
          ]
        }
      ]
    },
    {
      "cell_type": "markdown",
      "source": [
        "13. Is it possible to slice an array with non-contiguous indices in NumPy?"
      ],
      "metadata": {
        "id": "rcf_6cxPxnJr"
      }
    },
    {
      "cell_type": "code",
      "source": [
        "print(x[::2])"
      ],
      "metadata": {
        "colab": {
          "base_uri": "https://localhost:8080/"
        },
        "id": "MYzQdzGuxqOB",
        "outputId": "d1caa6a0-c3c4-47dc-dacb-69b81ddcb7b9"
      },
      "execution_count": null,
      "outputs": [
        {
          "output_type": "stream",
          "name": "stdout",
          "text": [
            "[3 5]\n"
          ]
        }
      ]
    },
    {
      "cell_type": "markdown",
      "source": [
        "14. Can I use slicing to extract elements based on a condition in NumPy"
      ],
      "metadata": {
        "id": "tPa0ohkZxyZr"
      }
    },
    {
      "cell_type": "code",
      "source": [
        "ab=np.array([3,4,5,6,77])\n",
        "cd=np.array([11,20,4,50,6])\n",
        "ab[cd>10]\n",
        "\n"
      ],
      "metadata": {
        "id": "o5m9LegHxyyZ",
        "colab": {
          "base_uri": "https://localhost:8080/"
        },
        "outputId": "458788cc-4793-4ead-8eb2-30957002ed8b"
      },
      "execution_count": null,
      "outputs": [
        {
          "output_type": "execute_result",
          "data": {
            "text/plain": [
              "array([3, 4, 6])"
            ]
          },
          "metadata": {},
          "execution_count": 132
        }
      ]
    },
    {
      "cell_type": "markdown",
      "source": [
        "15. How can I slice an array along multiple axes in NumPy? (To slice an array along multiple axes, you can use slicing syntax for each axis separated by commas)"
      ],
      "metadata": {
        "id": "dBO3NNg3yJi4"
      }
    },
    {
      "cell_type": "code",
      "source": [
        "import numpy as np\n",
        "k=np.array([[[1,23,4,5],[4,6,7,8]],[[2,3,45,2],[45,6,6,5]],[[2,3,34,4],[5,3,6,6]]])\n",
        "print(k[1:,:,1:3])"
      ],
      "metadata": {
        "id": "vwQwYAByyJ8m",
        "colab": {
          "base_uri": "https://localhost:8080/"
        },
        "outputId": "4741c5bf-574a-43d7-a5bd-91d9e4cf78d4"
      },
      "execution_count": null,
      "outputs": [
        {
          "output_type": "stream",
          "name": "stdout",
          "text": [
            "[[[ 3 45]\n",
            "  [ 6  6]]\n",
            "\n",
            " [[ 3 34]\n",
            "  [ 3  6]]]\n"
          ]
        }
      ]
    }
  ]
}